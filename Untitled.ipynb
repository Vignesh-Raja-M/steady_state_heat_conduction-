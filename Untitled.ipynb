{
 "cells": [
  {
   "cell_type": "code",
   "execution_count": 1,
   "id": "06894edd",
   "metadata": {},
   "outputs": [],
   "source": [
    "import numpy as np"
   ]
  },
  {
   "cell_type": "code",
   "execution_count": 2,
   "id": "184d9126",
   "metadata": {},
   "outputs": [],
   "source": [
    "def get_valid_float(a:str):\n",
    "    flag=1\n",
    "    while flag:\n",
    "        try:\n",
    "            out=float(input(a))\n",
    "            flag=0\n",
    "        except:\n",
    "            print(\"Error: Enter a valid floating point value\")\n",
    "    return out"
   ]
  },
  {
   "cell_type": "code",
   "execution_count": 3,
   "id": "36e707cf",
   "metadata": {},
   "outputs": [],
   "source": [
    "def create_plate(x: int, y: int):\n",
    "    '''This function initializes the domain for computation based on the length and bredth of the geometry\n",
    "        INPUT : Length,Bredth\n",
    "        OUTPUT: 2D array\n",
    "        Aux INPUT : Mesh Element dimensions\n",
    "        '''\n",
    "    try:\n",
    "        while True:\n",
    "            dx = get_valid_float (\"Enter the element size on X-axis\")\n",
    "            dy = get_valid_float (\"Enter the element size on Y-axis\")\n",
    "            if (x//dx)>3 and (y//dy)>3:\n",
    "                domain = np.zeros((int(x//dx),int(y//dy)))\n",
    "                break\n",
    "            else:\n",
    "                print(\"The elemant size is too large compared to plate size\")\n",
    "            \n",
    "    except:\n",
    "        print(\"Error: Given plate size is not valid\")\n",
    "        return 0\n",
    "    \n",
    "    return domain"
   ]
  },
  {
   "cell_type": "code",
   "execution_count": 4,
   "id": "0f1b6cb8",
   "metadata": {},
   "outputs": [],
   "source": [
    "def_boundary_temp=None"
   ]
  },
  {
   "cell_type": "code",
   "execution_count": 5,
   "id": "23a192d3",
   "metadata": {},
   "outputs": [],
   "source": [
    "def boundary_conditions (domain: np.ndarray,left:float=def_boundary_temp, top:float=def_boundary_temp, right:float=def_boundary_temp, bottom:float=def_boundary_temp):\n",
    "    '''Replaces the boundary values in the domain with the speccified values\n",
    "        INPUT : Temperatures(t1,t2,t3,t4)\n",
    "        |Takes Room Temperature if not specified|\n",
    "        OUTPUT : Changes are made in-place at the array'''\n",
    "    if type(domain)!=int:\n",
    "        try:\n",
    "            n1,n2 = domain.shape\n",
    "            domain[:,0] = left\n",
    "            domain[0] = top\n",
    "            domain[:,n2-1] = right\n",
    "            domain[n1-1] = bottom\n",
    "            domain[0,0]=(left+top)/2\n",
    "            domain[0,n2-1]=(top+right)/2\n",
    "            domain[n1-1,n2-1]=(right+bottom)/2\n",
    "            domain[n1-1,0]=(left+bottom)/2\n",
    "        except:\n",
    "            print(\"Given inputs are not valid\")\n",
    "            return 0\n",
    "        return domain\n",
    "    else:\n",
    "        return 0"
   ]
  },
  {
   "cell_type": "code",
   "execution_count": 6,
   "id": "f9d3d698",
   "metadata": {},
   "outputs": [],
   "source": [
    "def libman_elip_pde_solver(domain : np.ndarray, lamb: float=1.5, error: float=1):\n",
    "    if lamb>1 and lamb<2:\n",
    "        err=0\n",
    "        n1,n2=domain.shape\n",
    "        if n1>2 and n2>2:\n",
    "            while True:\n",
    "                err=0\n",
    "                for y in range(1,n1-1):\n",
    "                    for x in range(1,n2-1):\n",
    "                        temp=domain[x,y]\n",
    "                        domain[x,y]=(domain[x-1,y]+domain[x,y-1]+domain[x+1,y]+domain[x,y+1])/4\n",
    "                        domain[x,y]=(lamb*domain[x,y])+((1-lamb)*temp)\n",
    "                        if abs(((domain[x,y]-temp)/domain[x,y])*100) >= err:\n",
    "                            err = abs(((domain[x,y]-temp)/domain[x,y])*100)\n",
    "                if err<error:\n",
    "                    break\n",
    "        else:\n",
    "            return domain\n",
    "            \n",
    "    else:\n",
    "        print(\"Error: lamb value should be between 1 to 2\")\n",
    "                    \n",
    "    return domain,err"
   ]
  },
  {
   "cell_type": "code",
   "execution_count": 7,
   "id": "5af7908d",
   "metadata": {},
   "outputs": [],
   "source": [
    "def analyse_plate(size_x: float,size_y: float,left:float,top:float,right:float,bottom:float, lamb:float=1.5,error_percentage:float=1):\n",
    "    #set the default boundary temperature\n",
    "    def_boundary_temp = get_valid_float(\"Enter the default boundary temp of the rectangular plate\")\n",
    "    # left- temperature of left side boundary of the plate\n",
    "    # similaryly top, right , bottom follows correspondingly\n",
    "    initalised_plate=boundary_conditions(create_plate(size_x,size_y),left,top,right,bottom)\n",
    "    # An array initalized with boundary condition is passed on to pde solver\n",
    "    steady_state_temp_dist=libman_elip_pde_solver(initalised_plate)\n",
    "    return steady_state_temp_dist"
   ]
  },
  {
   "cell_type": "code",
   "execution_count": 8,
   "id": "0efe1c3a",
   "metadata": {},
   "outputs": [
    {
     "name": "stdout",
     "output_type": "stream",
     "text": [
      "Enter the default boundary temp of the rectangular plate25\n",
      "Enter the element size on X-axis1\n",
      "Enter the element size on Y-axis1\n",
      "[[ 87.5        100.         100.         100.          75.        ]\n",
      " [ 75.          78.6205368   76.07575113  69.64983929  50.        ]\n",
      " [ 75.          63.13778968  56.12793419  52.45168955  50.        ]\n",
      " [ 75.          42.83795818  33.21069728  33.99010903  50.        ]\n",
      " [ 37.5          0.           0.           0.          25.        ]]\n",
      "0.6576530356008721\n"
     ]
    }
   ],
   "source": [
    "# example 1 direct analysis with analyse plate function. \n",
    "# plate size 5 X 5 : first two parameters take plate x,y\n",
    "# followed by left,top,right,bottom sides boundary condition. \n",
    "# followed by a control constant ranging between 1 to 2 (default is set to 1.5) \n",
    "# followed by allowable % error (default is set to 1%)\n",
    "\n",
    "temp_dist_np_array,error=analyse_plate(5,5,75,100,50,0,1.5,1)\n",
    "print(temp_dist_np_array)\n",
    "print(error)"
   ]
  },
  {
   "cell_type": "code",
   "execution_count": 9,
   "id": "7d270cd6",
   "metadata": {},
   "outputs": [
    {
     "name": "stdout",
     "output_type": "stream",
     "text": [
      "Enter the element size on X-axis1\n",
      "Enter the element size on Y-axis1\n",
      "[[ 87.5        100.         100.         100.          75.        ]\n",
      " [ 75.          78.6205368   76.07575113  69.64983929  50.        ]\n",
      " [ 75.          63.13778968  56.12793419  52.45168955  50.        ]\n",
      " [ 75.          42.83795818  33.21069728  33.99010903  50.        ]\n",
      " [ 37.5          0.           0.           0.          25.        ]]\n",
      "0.6576530356008721\n"
     ]
    }
   ],
   "source": [
    "# example 2 custom analysis\n",
    "# create a plate 5 X 5 (which means array that represents mesh points)\n",
    "# set the boundary condition for the array (temperature data)\n",
    "# pass the initalized array in to libman_elip_pde_solver\n",
    "# solution array along with error will be returned\n",
    "\n",
    "def_boundary_temp=25\n",
    "plate_1=create_plate(5,5)\n",
    "initalized_plate_1= boundary_conditions(plate_1, bottom=0,top=100,right=50,left=75)\n",
    "array,error=libman_elip_pde_solver(initalized_plate_1,lamb=1.5,error=1)\n",
    "print(array)\n",
    "print(error)"
   ]
  },
  {
   "cell_type": "code",
   "execution_count": null,
   "id": "7e4e178c",
   "metadata": {},
   "outputs": [],
   "source": []
  }
 ],
 "metadata": {
  "kernelspec": {
   "display_name": "Python 3",
   "language": "python",
   "name": "python3"
  },
  "language_info": {
   "codemirror_mode": {
    "name": "ipython",
    "version": 3
   },
   "file_extension": ".py",
   "mimetype": "text/x-python",
   "name": "python",
   "nbconvert_exporter": "python",
   "pygments_lexer": "ipython3",
   "version": "3.8.8"
  }
 },
 "nbformat": 4,
 "nbformat_minor": 5
}
